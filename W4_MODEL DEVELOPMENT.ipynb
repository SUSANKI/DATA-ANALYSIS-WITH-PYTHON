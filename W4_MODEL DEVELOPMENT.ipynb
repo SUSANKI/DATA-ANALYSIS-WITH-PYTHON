{
 "cells": [
  {
   "cell_type": "markdown",
   "metadata": {},
   "source": [
    "# MODEL DEVELOPMENT"
   ]
  },
  {
   "cell_type": "markdown",
   "metadata": {},
   "source": [
    "#### DEFINITION\n",
    "\n",
    "* Model is a mathematical equation used to predict value given 1 or more other values\n",
    "* The more relevant data that we have, the more accurate our model is"
   ]
  },
  {
   "cell_type": "markdown",
   "metadata": {},
   "source": [
    "## SIMPLE LINEAR REGRESSION MODEL\n",
    "\n",
    "* 1 independent variable x and 1 dependent variable y\n",
    "* regression line will be in the form y=a+bx"
   ]
  },
  {
   "cell_type": "code",
   "execution_count": 34,
   "metadata": {},
   "outputs": [
    {
     "data": {
      "text/html": [
       "<div>\n",
       "<style scoped>\n",
       "    .dataframe tbody tr th:only-of-type {\n",
       "        vertical-align: middle;\n",
       "    }\n",
       "\n",
       "    .dataframe tbody tr th {\n",
       "        vertical-align: top;\n",
       "    }\n",
       "\n",
       "    .dataframe thead th {\n",
       "        text-align: right;\n",
       "    }\n",
       "</style>\n",
       "<table border=\"1\" class=\"dataframe\">\n",
       "  <thead>\n",
       "    <tr style=\"text-align: right;\">\n",
       "      <th></th>\n",
       "      <th>Unnamed: 0</th>\n",
       "      <th>Private</th>\n",
       "      <th>Apps</th>\n",
       "      <th>Accept</th>\n",
       "      <th>Enroll</th>\n",
       "      <th>Top10perc</th>\n",
       "      <th>Top25perc</th>\n",
       "      <th>F.Undergrad</th>\n",
       "      <th>P.Undergrad</th>\n",
       "      <th>Outstate</th>\n",
       "      <th>Room.Board</th>\n",
       "      <th>Books</th>\n",
       "      <th>Personal</th>\n",
       "      <th>PhD</th>\n",
       "      <th>Terminal</th>\n",
       "      <th>S.F.Ratio</th>\n",
       "      <th>perc.alumni</th>\n",
       "      <th>Expend</th>\n",
       "      <th>Grad.Rate</th>\n",
       "    </tr>\n",
       "  </thead>\n",
       "  <tbody>\n",
       "    <tr>\n",
       "      <th>0</th>\n",
       "      <td>Abilene Christian University</td>\n",
       "      <td>Yes</td>\n",
       "      <td>1660</td>\n",
       "      <td>1232</td>\n",
       "      <td>721</td>\n",
       "      <td>23</td>\n",
       "      <td>52</td>\n",
       "      <td>2885</td>\n",
       "      <td>537</td>\n",
       "      <td>7440</td>\n",
       "      <td>3300</td>\n",
       "      <td>450</td>\n",
       "      <td>2200</td>\n",
       "      <td>70</td>\n",
       "      <td>78</td>\n",
       "      <td>18.1</td>\n",
       "      <td>12</td>\n",
       "      <td>7041</td>\n",
       "      <td>60</td>\n",
       "    </tr>\n",
       "    <tr>\n",
       "      <th>1</th>\n",
       "      <td>Adelphi University</td>\n",
       "      <td>Yes</td>\n",
       "      <td>2186</td>\n",
       "      <td>1924</td>\n",
       "      <td>512</td>\n",
       "      <td>16</td>\n",
       "      <td>29</td>\n",
       "      <td>2683</td>\n",
       "      <td>1227</td>\n",
       "      <td>12280</td>\n",
       "      <td>6450</td>\n",
       "      <td>750</td>\n",
       "      <td>1500</td>\n",
       "      <td>29</td>\n",
       "      <td>30</td>\n",
       "      <td>12.2</td>\n",
       "      <td>16</td>\n",
       "      <td>10527</td>\n",
       "      <td>56</td>\n",
       "    </tr>\n",
       "    <tr>\n",
       "      <th>2</th>\n",
       "      <td>Adrian College</td>\n",
       "      <td>Yes</td>\n",
       "      <td>1428</td>\n",
       "      <td>1097</td>\n",
       "      <td>336</td>\n",
       "      <td>22</td>\n",
       "      <td>50</td>\n",
       "      <td>1036</td>\n",
       "      <td>99</td>\n",
       "      <td>11250</td>\n",
       "      <td>3750</td>\n",
       "      <td>400</td>\n",
       "      <td>1165</td>\n",
       "      <td>53</td>\n",
       "      <td>66</td>\n",
       "      <td>12.9</td>\n",
       "      <td>30</td>\n",
       "      <td>8735</td>\n",
       "      <td>54</td>\n",
       "    </tr>\n",
       "    <tr>\n",
       "      <th>3</th>\n",
       "      <td>Agnes Scott College</td>\n",
       "      <td>Yes</td>\n",
       "      <td>417</td>\n",
       "      <td>349</td>\n",
       "      <td>137</td>\n",
       "      <td>60</td>\n",
       "      <td>89</td>\n",
       "      <td>510</td>\n",
       "      <td>63</td>\n",
       "      <td>12960</td>\n",
       "      <td>5450</td>\n",
       "      <td>450</td>\n",
       "      <td>875</td>\n",
       "      <td>92</td>\n",
       "      <td>97</td>\n",
       "      <td>7.7</td>\n",
       "      <td>37</td>\n",
       "      <td>19016</td>\n",
       "      <td>59</td>\n",
       "    </tr>\n",
       "    <tr>\n",
       "      <th>4</th>\n",
       "      <td>Alaska Pacific University</td>\n",
       "      <td>Yes</td>\n",
       "      <td>193</td>\n",
       "      <td>146</td>\n",
       "      <td>55</td>\n",
       "      <td>16</td>\n",
       "      <td>44</td>\n",
       "      <td>249</td>\n",
       "      <td>869</td>\n",
       "      <td>7560</td>\n",
       "      <td>4120</td>\n",
       "      <td>800</td>\n",
       "      <td>1500</td>\n",
       "      <td>76</td>\n",
       "      <td>72</td>\n",
       "      <td>11.9</td>\n",
       "      <td>2</td>\n",
       "      <td>10922</td>\n",
       "      <td>15</td>\n",
       "    </tr>\n",
       "  </tbody>\n",
       "</table>\n",
       "</div>"
      ],
      "text/plain": [
       "                     Unnamed: 0 Private  Apps  Accept  Enroll  Top10perc  \\\n",
       "0  Abilene Christian University     Yes  1660    1232     721         23   \n",
       "1            Adelphi University     Yes  2186    1924     512         16   \n",
       "2                Adrian College     Yes  1428    1097     336         22   \n",
       "3           Agnes Scott College     Yes   417     349     137         60   \n",
       "4     Alaska Pacific University     Yes   193     146      55         16   \n",
       "\n",
       "   Top25perc  F.Undergrad  P.Undergrad  Outstate  Room.Board  Books  Personal  \\\n",
       "0         52         2885          537      7440        3300    450      2200   \n",
       "1         29         2683         1227     12280        6450    750      1500   \n",
       "2         50         1036           99     11250        3750    400      1165   \n",
       "3         89          510           63     12960        5450    450       875   \n",
       "4         44          249          869      7560        4120    800      1500   \n",
       "\n",
       "   PhD  Terminal  S.F.Ratio  perc.alumni  Expend  Grad.Rate  \n",
       "0   70        78       18.1           12    7041         60  \n",
       "1   29        30       12.2           16   10527         56  \n",
       "2   53        66       12.9           30    8735         54  \n",
       "3   92        97        7.7           37   19016         59  \n",
       "4   76        72       11.9            2   10922         15  "
      ]
     },
     "execution_count": 34,
     "metadata": {},
     "output_type": "execute_result"
    }
   ],
   "source": [
    "# import package and data\n",
    "import pandas as pd\n",
    "import numpy as np\n",
    "import seaborn as sns\n",
    "from IPython.display import display\n",
    "from matplotlib import pyplot as plt\n",
    "data= pd.read_csv(\"C:/Users/Win 10/Documents/R DIRECTORY/College.csv\")\n",
    "data.head(5)"
   ]
  },
  {
   "cell_type": "code",
   "execution_count": 37,
   "metadata": {},
   "outputs": [],
   "source": [
    "# import Linear model from scikit learn\n",
    "from sklearn.linear_model import LinearRegression\n",
    "\n",
    "# Create linear regression object using constructor\n",
    "lm=LinearRegression()"
   ]
  },
  {
   "cell_type": "code",
   "execution_count": 70,
   "metadata": {},
   "outputs": [
    {
     "data": {
      "text/plain": [
       "array([[1531.44792245],\n",
       "       [1078.53127079],\n",
       "       [ 474.44323012],\n",
       "       [ 340.59978688],\n",
       "       [ 576.02084329],\n",
       "       [ 436.20224634],\n",
       "       [1359.96101081],\n",
       "       [ 845.50027587],\n",
       "       [ 573.03326643]])"
      ]
     },
     "metadata": {},
     "output_type": "display_data"
    },
    {
     "data": {
      "text/plain": [
       "777"
      ]
     },
     "metadata": {},
     "output_type": "display_data"
    }
   ],
   "source": [
    "x = data[[\"Apps\"]]\n",
    "y = data[[\"Accept\"]]\n",
    "\n",
    "# FIT A LINEAR MODEL TO THE DATA\n",
    "lm.fit(x,y)\n",
    "\n",
    "# PREDICT\n",
    "display(lm.predict(x)[1:10])\n",
    "display(len(lm.predict(x)))"
   ]
  },
  {
   "cell_type": "code",
   "execution_count": 27,
   "metadata": {},
   "outputs": [
    {
     "data": {
      "text/plain": [
       "array([225.27932017])"
      ]
     },
     "metadata": {},
     "output_type": "display_data"
    },
    {
     "data": {
      "text/plain": [
       "array([[0.59751537]])"
      ]
     },
     "metadata": {},
     "output_type": "display_data"
    }
   ],
   "source": [
    "# FIND THE PARAMETERS ANPHA AND BETA OF THE REGRESSION MODEL\n",
    "display(lm.intercept_)\n",
    "display(lm.coef_)"
   ]
  },
  {
   "cell_type": "code",
   "execution_count": 65,
   "metadata": {},
   "outputs": [
    {
     "data": {
      "image/png": "[encoded data removed]",
      "text/plain": [
       "<Figure size 432x288 with 1 Axes>"
      ]
     },
     "metadata": {
      "needs_background": "light"
     },
     "output_type": "display_data"
    }
   ],
   "source": [
    "xp= np.linspace(0,30000,10000)\n",
    "\n",
    "def fx(x):\n",
    "    y= 225.27932017+ 0.59751537*x\n",
    "    return y\n",
    "yp= fx(xp)\n",
    "\n",
    "\n",
    "plt.plot(xp,yp,'b-',label=\"regression line\")\n",
    "plt.plot(x,y,'r+',label=\"true observation\")\n",
    "plt.xlim(0,30000)\n",
    "plt.legend()\n",
    "plt.show()\n"
   ]
  },
  {
   "cell_type": "markdown",
   "metadata": {},
   "source": [
    "## MULTIPLE LINEAR REGRESSION MODEL\n",
    "\n",
    "* One dependent variable explained by many explanatory variables x1,x2,..."
   ]
  },
  {
   "cell_type": "code",
   "execution_count": 41,
   "metadata": {},
   "outputs": [
    {
     "data": {
      "text/plain": [
       "array([[1393.91653037],\n",
       "       [ 975.80507404],\n",
       "       [ 376.34756762],\n",
       "       [ 116.62687996],\n",
       "       [ 456.96186499],\n",
       "       [ 308.13404377],\n",
       "       [1320.9758046 ],\n",
       "       [ 747.9600436 ],\n",
       "       [ 427.75693809]])"
      ]
     },
     "metadata": {},
     "output_type": "display_data"
    },
    {
     "data": {
      "text/plain": [
       "777"
      ]
     },
     "metadata": {},
     "output_type": "display_data"
    }
   ],
   "source": [
    "# Create linear regression object using constructor\n",
    "lm=LinearRegression()\n",
    "\n",
    "x = data[[\"Apps\",\"Enroll\",\"Outstate\",\"Books\"]]\n",
    "y = data[[\"Accept\"]]\n",
    "\n",
    "# FIT A LINEAR MODEL TO THE DATA\n",
    "lm.fit(x,y)\n",
    "\n",
    "# PREDICT\n",
    "display(lm.predict(x)[1:10])\n",
    "display(len(lm.predict(x)))"
   ]
  },
  {
   "cell_type": "code",
   "execution_count": 42,
   "metadata": {},
   "outputs": [
    {
     "data": {
      "text/plain": [
       "array([95.73695206])"
      ]
     },
     "metadata": {},
     "output_type": "display_data"
    },
    {
     "data": {
      "text/plain": [
       "array([[ 0.38193262,  1.06426962,  0.00438456, -0.1806315 ]])"
      ]
     },
     "metadata": {},
     "output_type": "display_data"
    }
   ],
   "source": [
    "# FIND THE PARAMETERS ANPHA AND BETA OF THE REGRESSION MODEL\n",
    "display(lm.intercept_)\n",
    "display(lm.coef_)"
   ]
  },
  {
   "cell_type": "markdown",
   "metadata": {},
   "source": [
    "## MODEL EVALUATION USING VISUALIZATION"
   ]
  },
  {
   "cell_type": "markdown",
   "metadata": {},
   "source": [
    "#### REGRESSION PLOT\n",
    "\n",
    "* RELATIONSHIP BETWEEN VARIABLES\n",
    "* THE STRENGTH OF CORRELATION\n",
    "* THE DIRECTION OF RELATIONSHIP"
   ]
  },
  {
   "cell_type": "code",
   "execution_count": 43,
   "metadata": {},
   "outputs": [
    {
     "data": {
      "text/plain": [
       "(0.0, 30000.0)"
      ]
     },
     "execution_count": 43,
     "metadata": {},
     "output_type": "execute_result"
    },
    {
     "data": {
      "image/png": "[encoded data removed]",
      "text/plain": [
       "<Figure size 432x288 with 1 Axes>"
      ]
     },
     "metadata": {
      "needs_background": "light"
     },
     "output_type": "display_data"
    }
   ],
   "source": [
    "import seaborn as sns\n",
    "sns.regplot(x=\"Apps\",y=\"Accept\",data=data)\n",
    "plt.xlim(0,30000)"
   ]
  },
  {
   "cell_type": "markdown",
   "metadata": {},
   "source": [
    "* Note the that OLS method and simple linear regression model are built based on the assumption that \n",
    "* Ut is random and normally distributed with mean=0 and constant variance\n",
    "* Each ut is uncorrelated to each other and there is no correlation between xt and ut\n",
    "\n",
    "* Hence, the residual plot must be random with mean= 0"
   ]
  },
  {
   "cell_type": "code",
   "execution_count": 44,
   "metadata": {},
   "outputs": [
    {
     "name": "stderr",
     "output_type": "stream",
     "text": [
      "D:\\Anaconda3\\lib\\site-packages\\seaborn\\_decorators.py:36: FutureWarning: Pass the following variables as keyword args: x, y. From version 0.12, the only valid positional argument will be `data`, and passing other arguments without an explicit keyword will result in an error or misinterpretation.\n",
      "  warnings.warn(\n"
     ]
    },
    {
     "data": {
      "text/plain": [
       "<AxesSubplot:xlabel='Apps', ylabel='Accept'>"
      ]
     },
     "execution_count": 44,
     "metadata": {},
     "output_type": "execute_result"
    },
    {
     "data": {
      "image/png": "[encoded data removed]",
      "text/plain": [
       "<Figure size 432x288 with 1 Axes>"
      ]
     },
     "metadata": {
      "needs_background": "light"
     },
     "output_type": "display_data"
    }
   ],
   "source": [
    "#### RESIDUAL PLOT\n",
    "\n",
    "sns.residplot(data[\"Apps\"],data[\"Accept\"])"
   ]
  },
  {
   "cell_type": "markdown",
   "metadata": {},
   "source": [
    "* Observation: \n",
    "* Though E[ut] is approximately =0, but ut are not randomly distributed. Therefore, linear regression is not a good model to fit"
   ]
  },
  {
   "cell_type": "markdown",
   "metadata": {},
   "source": [
    "#### DISTRIBUTION PLOT (HISTOGRAM)\n",
    "\n",
    "* Distribution plot can be used to compare the distribution of predicted values generated from the model and  distribution of actual value"
   ]
  },
  {
   "cell_type": "code",
   "execution_count": 45,
   "metadata": {},
   "outputs": [
    {
     "name": "stderr",
     "output_type": "stream",
     "text": [
      "D:\\Anaconda3\\lib\\site-packages\\seaborn\\distributions.py:2551: FutureWarning: `distplot` is a deprecated function and will be removed in a future version. Please adapt your code to use either `displot` (a figure-level function with similar flexibility) or `kdeplot` (an axes-level function for kernel density plots).\n",
      "  warnings.warn(msg, FutureWarning)\n"
     ]
    },
    {
     "data": {
      "image/png": "[encoded data removed]",
      "text/plain": [
       "<Figure size 432x288 with 1 Axes>"
      ]
     },
     "metadata": {
      "needs_background": "light"
     },
     "output_type": "display_data"
    }
   ],
   "source": [
    "actual= sns.distplot(data[\"Accept\"],hist=False, label=\"ACTUAL VALUE\",color=\"r\")"
   ]
  },
  {
   "cell_type": "code",
   "execution_count": 46,
   "metadata": {},
   "outputs": [
    {
     "name": "stderr",
     "output_type": "stream",
     "text": [
      "D:\\Anaconda3\\lib\\site-packages\\seaborn\\distributions.py:2551: FutureWarning: `distplot` is a deprecated function and will be removed in a future version. Please adapt your code to use either `displot` (a figure-level function with similar flexibility) or `kdeplot` (an axes-level function for kernel density plots).\n",
      "  warnings.warn(msg, FutureWarning)\n"
     ]
    },
    {
     "data": {
      "text/plain": [
       "<AxesSubplot:ylabel='Density'>"
      ]
     },
     "execution_count": 46,
     "metadata": {},
     "output_type": "execute_result"
    },
    {
     "data": {
      "image/png": "[encoded data removed]",
      "text/plain": [
       "<Figure size 432x288 with 1 Axes>"
      ]
     },
     "metadata": {
      "needs_background": "light"
     },
     "output_type": "display_data"
    }
   ],
   "source": [
    "sns.distplot(lm.predict(x),hist=False, label=\"FITTED VALUE\",color=\"b\")"
   ]
  },
  {
   "cell_type": "markdown",
   "metadata": {},
   "source": [
    "## POLYNOMIAL REGRESSION AND PIPELINE\n",
    "\n",
    "* Special case of general linear regression\n",
    "* Describe curvilinear relationship (quadratic, cubic, higher-order,...)"
   ]
  },
  {
   "cell_type": "markdown",
   "metadata": {},
   "source": [
    "#### POLYNOMIAL REGRESSION"
   ]
  },
  {
   "cell_type": "code",
   "execution_count": 49,
   "metadata": {},
   "outputs": [
    {
     "name": "stdout",
     "output_type": "stream",
     "text": [
      "            5             4             3             2\n",
      "-3.271e-18 x + 2.325e-13 x - 3.898e-09 x + 1.084e-05 x + 0.6797 x + 86.02\n"
     ]
    },
    {
     "data": {
      "text/plain": [
       "462.4976515067302"
      ]
     },
     "execution_count": 49,
     "metadata": {},
     "output_type": "execute_result"
    }
   ],
   "source": [
    "# CUBIC (3RD ORDER) POPYNOMIAL REGRESSION\n",
    "# np.polyfit() function: used to fit the polynomial regression model to particular order\n",
    "x= x.transpose().to_numpy().reshape(777,)\n",
    "y= y.transpose().to_numpy().reshape(777,)\n",
    "f=np.polyfit(x,y,5)\n",
    "\n",
    "# Print out the regression model\n",
    "p= np.poly1d(f)\n",
    "print(p)\n",
    "\n",
    "# We can also use the function p to predict target values\n",
    "p(550)"
   ]
  },
  {
   "cell_type": "code",
   "execution_count": 70,
   "metadata": {},
   "outputs": [
    {
     "data": {
      "text/plain": [
       "array([ 86.02193212,  86.08996805,  86.15800419,  86.22604056,\n",
       "        86.29407713,  86.36211393,  86.43015094,  86.49818817,\n",
       "        86.56622562,  86.63426329,  86.70230117,  86.77033927,\n",
       "        86.83837758,  86.90641611,  86.97445486,  87.04249383,\n",
       "        87.11053302,  87.17857242,  87.24661203,  87.31465187,\n",
       "        87.38269192,  87.45073219,  87.51877267,  87.58681338,\n",
       "        87.65485429,  87.72289543,  87.79093678,  87.85897835,\n",
       "        87.92702014,  87.99506214,  88.06310436,  88.13114679,\n",
       "        88.19918944,  88.26723231,  88.3352754 ,  88.4033187 ,\n",
       "        88.47136222,  88.53940595,  88.6074499 ,  88.67549407,\n",
       "        88.74353846,  88.81158306,  88.87962787,  88.94767291,\n",
       "        89.01571815,  89.08376362,  89.1518093 ,  89.2198552 ,\n",
       "        89.28790131,  89.35594764,  89.42399419,  89.49204095,\n",
       "        89.56008793,  89.62813513,  89.69618254,  89.76423017,\n",
       "        89.83227801,  89.90032607,  89.96837434,  90.03642283,\n",
       "        90.10447154,  90.17252046,  90.2405696 ,  90.30861896,\n",
       "        90.37666853,  90.44471831,  90.51276832,  90.58081853,\n",
       "        90.64886897,  90.71691962,  90.78497048,  90.85302156,\n",
       "        90.92107286,  90.98912437,  91.0571761 ,  91.12522804,\n",
       "        91.1932802 ,  91.26133257,  91.32938516,  91.39743797,\n",
       "        91.46549099,  91.53354423,  91.60159768,  91.66965134,\n",
       "        91.73770523,  91.80575932,  91.87381364,  91.94186816,\n",
       "        92.00992291,  92.07797787,  92.14603304,  92.21408843,\n",
       "        92.28214403,  92.35019985,  92.41825589,  92.48631214,\n",
       "        92.5543686 ,  92.62242528,  92.69048218,  92.75853929,\n",
       "        92.82659661,  92.89465415,  92.96271191,  93.03076988,\n",
       "        93.09882806,  93.16688646,  93.23494508,  93.30300391,\n",
       "        93.37106295,  93.43912221,  93.50718168,  93.57524137,\n",
       "        93.64330127,  93.71136139,  93.77942172,  93.84748227,\n",
       "        93.91554303,  93.98360401,  94.0516652 ,  94.11972661,\n",
       "        94.18778823,  94.25585006,  94.32391211,  94.39197437,\n",
       "        94.46003685,  94.52809954,  94.59616245,  94.66422557,\n",
       "        94.73228891,  94.80035245,  94.86841622,  94.9364802 ,\n",
       "        95.00454439,  95.0726088 ,  95.14067342,  95.20873825,\n",
       "        95.2768033 ,  95.34486856,  95.41293404,  95.48099973,\n",
       "        95.54906564,  95.61713176,  95.68519809,  95.75326464,\n",
       "        95.8213314 ,  95.88939838,  95.95746557,  96.02553297,\n",
       "        96.09360059,  96.16166842,  96.22973646,  96.29780472,\n",
       "        96.36587319,  96.43394188,  96.50201078,  96.57007989,\n",
       "        96.63814922,  96.70621876,  96.77428852,  96.84235848,\n",
       "        96.91042867,  96.97849906,  97.04656967,  97.11464049,\n",
       "        97.18271153,  97.25078278,  97.31885424,  97.38692592,\n",
       "        97.45499781,  97.52306991,  97.59114223,  97.65921476,\n",
       "        97.7272875 ,  97.79536046,  97.86343363,  97.93150701,\n",
       "        97.9995806 ,  98.06765441,  98.13572844,  98.20380267,\n",
       "        98.27187712,  98.33995178,  98.40802666,  98.47610175,\n",
       "        98.54417705,  98.61225256,  98.68032829,  98.74840423,\n",
       "        98.81648038,  98.88455675,  98.95263332,  99.02071012,\n",
       "        99.08878712,  99.15686434,  99.22494177,  99.29301941,\n",
       "        99.36109727,  99.42917533,  99.49725362,  99.56533211,\n",
       "        99.63341082,  99.70148973,  99.76956887,  99.83764821,\n",
       "        99.90572777,  99.97380754, 100.04188752, 100.10996771,\n",
       "       100.17804812, 100.24612874, 100.31420957, 100.38229061,\n",
       "       100.45037187, 100.51845334, 100.58653502, 100.65461691,\n",
       "       100.72269902, 100.79078134, 100.85886387, 100.92694661,\n",
       "       100.99502956, 101.06311273, 101.13119611, 101.1992797 ,\n",
       "       101.2673635 , 101.33544752, 101.40353175, 101.47161618,\n",
       "       101.53970084, 101.6077857 , 101.67587077, 101.74395606,\n",
       "       101.81204156, 101.88012727, 101.94821319, 102.01629933,\n",
       "       102.08438568, 102.15247223, 102.220559  , 102.28864598,\n",
       "       102.35673318, 102.42482058, 102.4929082 , 102.56099603,\n",
       "       102.62908407, 102.69717232, 102.76526078, 102.83334946,\n",
       "       102.90143835, 102.96952744, 103.03761675, 103.10570627,\n",
       "       103.17379601, 103.24188595, 103.3099761 , 103.37806647,\n",
       "       103.44615705, 103.51424784, 103.58233884, 103.65043005,\n",
       "       103.71852147, 103.78661311, 103.85470495, 103.92279701,\n",
       "       103.99088928, 104.05898176, 104.12707445, 104.19516735,\n",
       "       104.26326046, 104.33135378, 104.39944732, 104.46754106,\n",
       "       104.53563502, 104.60372919, 104.67182356, 104.73991815,\n",
       "       104.80801295, 104.87610796, 104.94420319, 105.01229862,\n",
       "       105.08039426, 105.14849012, 105.21658618, 105.28468246,\n",
       "       105.35277894, 105.42087564, 105.48897255, 105.55706966,\n",
       "       105.62516699, 105.69326453, 105.76136228, 105.82946024,\n",
       "       105.89755841, 105.9656568 , 106.03375539, 106.10185419,\n",
       "       106.1699532 , 106.23805243, 106.30615186, 106.3742515 ,\n",
       "       106.44235136, 106.51045142, 106.5785517 , 106.64665218,\n",
       "       106.71475288, 106.78285378, 106.8509549 , 106.91905622,\n",
       "       106.98715776, 107.05525951, 107.12336146, 107.19146363,\n",
       "       107.259566  , 107.32766859, 107.39577139, 107.46387439,\n",
       "       107.53197761, 107.60008104, 107.66818467, 107.73628852,\n",
       "       107.80439257, 107.87249684, 107.94060131, 108.008706  ,\n",
       "       108.07681089, 108.144916  , 108.21302131, 108.28112684,\n",
       "       108.34923257, 108.41733851, 108.48544467, 108.55355103,\n",
       "       108.6216576 , 108.68976438, 108.75787138, 108.82597858,\n",
       "       108.89408599, 108.96219361, 109.03030144, 109.09840948,\n",
       "       109.16651772, 109.23462618, 109.30273485, 109.37084372,\n",
       "       109.43895281, 109.5070621 , 109.57517161, 109.64328132,\n",
       "       109.71139124, 109.77950138, 109.84761172, 109.91572227,\n",
       "       109.98383302, 110.05194399, 110.12005517, 110.18816656,\n",
       "       110.25627815, 110.32438996, 110.39250197, 110.46061419,\n",
       "       110.52872662, 110.59683926, 110.66495211, 110.73306517,\n",
       "       110.80117844, 110.86929191, 110.93740559, 111.00551949,\n",
       "       111.07363359, 111.1417479 , 111.20986242, 111.27797715,\n",
       "       111.34609208, 111.41420723, 111.48232258, 111.55043814,\n",
       "       111.61855391, 111.68666989, 111.75478608, 111.82290248,\n",
       "       111.89101908, 111.9591359 , 112.02725292, 112.09537015,\n",
       "       112.16348759, 112.23160523, 112.29972309, 112.36784115,\n",
       "       112.43595942, 112.5040779 , 112.57219659, 112.64031549,\n",
       "       112.70843459, 112.7765539 , 112.84467343, 112.91279315,\n",
       "       112.98091309, 113.04903324, 113.11715359, 113.18527415,\n",
       "       113.25339492, 113.3215159 , 113.38963708, 113.45775848,\n",
       "       113.52588008, 113.59400189, 113.6621239 , 113.73024613,\n",
       "       113.79836856, 113.8664912 , 113.93461405, 114.0027371 ,\n",
       "       114.07086037, 114.13898384, 114.20710752, 114.2752314 ,\n",
       "       114.3433555 , 114.4114798 , 114.47960431, 114.54772902,\n",
       "       114.61585395, 114.68397908, 114.75210442, 114.82022997,\n",
       "       114.88835572, 114.95648168, 115.02460785, 115.09273423,\n",
       "       115.16086081, 115.2289876 , 115.2971146 , 115.3652418 ,\n",
       "       115.43336922, 115.50149684, 115.56962467, 115.6377527 ,\n",
       "       115.70588094, 115.77400939, 115.84213805, 115.91026691,\n",
       "       115.97839598, 116.04652526, 116.11465474, 116.18278443,\n",
       "       116.25091433, 116.31904443, 116.38717475, 116.45530527,\n",
       "       116.52343599, 116.59156692, 116.65969806, 116.72782941,\n",
       "       116.79596096, 116.86409272, 116.93222469, 117.00035686,\n",
       "       117.06848924, 117.13662183, 117.20475462, 117.27288762,\n",
       "       117.34102083, 117.40915424, 117.47728786, 117.54542169,\n",
       "       117.61355572, 117.68168996, 117.74982441, 117.81795906,\n",
       "       117.88609392, 117.95422898, 118.02236425, 118.09049973,\n",
       "       118.15863542, 118.22677131, 118.2949074 , 118.36304371,\n",
       "       118.43118021, 118.49931693, 118.56745385, 118.63559098,\n",
       "       118.70372831, 118.77186585, 118.8400036 , 118.90814155,\n",
       "       118.97627971, 119.04441807, 119.11255664, 119.18069542,\n",
       "       119.2488344 , 119.31697359, 119.38511298, 119.45325258,\n",
       "       119.52139239, 119.5895324 , 119.65767262, 119.72581304,\n",
       "       119.79395367, 119.86209451, 119.93023555, 119.99837679,\n",
       "       120.06651824, 120.1346599 , 120.20280176, 120.27094383,\n",
       "       120.33908611, 120.40722859, 120.47537127, 120.54351416,\n",
       "       120.61165726, 120.67980056, 120.74794407, 120.81608778,\n",
       "       120.8842317 , 120.95237582, 121.02052015, 121.08866469,\n",
       "       121.15680943, 121.22495437, 121.29309952, 121.36124488,\n",
       "       121.42939044, 121.4975362 , 121.56568217, 121.63382835,\n",
       "       121.70197473, 121.77012132, 121.83826811, 121.9064151 ,\n",
       "       121.97456231, 122.04270971, 122.11085732, 122.17900514,\n",
       "       122.24715316, 122.31530139, 122.38344982, 122.45159846,\n",
       "       122.5197473 , 122.58789634, 122.65604559, 122.72419505,\n",
       "       122.79234471, 122.86049457, 122.92864464, 122.99679492,\n",
       "       123.06494539, 123.13309608, 123.20124697, 123.26939806,\n",
       "       123.33754935, 123.40570086, 123.47385256, 123.54200447,\n",
       "       123.61015659, 123.67830891, 123.74646143, 123.81461416,\n",
       "       123.88276709, 123.95092023, 124.01907357, 124.08722712,\n",
       "       124.15538087, 124.22353482, 124.29168898, 124.35984334,\n",
       "       124.42799791, 124.49615268, 124.56430766, 124.63246284,\n",
       "       124.70061822, 124.76877381, 124.8369296 , 124.9050856 ,\n",
       "       124.9732418 , 125.0413982 , 125.10955481, 125.17771162,\n",
       "       125.24586863, 125.31402585, 125.38218328, 125.4503409 ,\n",
       "       125.51849874, 125.58665677, 125.65481501, 125.72297345,\n",
       "       125.7911321 , 125.85929095, 125.92745   , 125.99560926,\n",
       "       126.06376872, 126.13192838, 126.20008825, 126.26824832,\n",
       "       126.3364086 , 126.40456908, 126.47272976, 126.54089064,\n",
       "       126.60905173, 126.67721303, 126.74537452, 126.81353622,\n",
       "       126.88169812, 126.94986023, 127.01802254, 127.08618505,\n",
       "       127.15434777, 127.22251069, 127.29067381, 127.35883714,\n",
       "       127.42700066, 127.4951644 , 127.56332833, 127.63149247,\n",
       "       127.69965681, 127.76782135, 127.8359861 , 127.90415105,\n",
       "       127.97231621, 128.04048156, 128.10864712, 128.17681288,\n",
       "       128.24497885, 128.31314502, 128.38131139, 128.44947796,\n",
       "       128.51764474, 128.58581172, 128.6539789 , 128.72214628,\n",
       "       128.79031387, 128.85848166, 128.92664965, 128.99481785,\n",
       "       129.06298625, 129.13115485, 129.19932365, 129.26749266,\n",
       "       129.33566187, 129.40383128, 129.47200089, 129.54017071,\n",
       "       129.60834072, 129.67651094, 129.74468137, 129.81285199,\n",
       "       129.88102282, 129.94919385, 130.01736508, 130.08553652,\n",
       "       130.15370816, 130.22187999, 130.29005204, 130.35822428,\n",
       "       130.42639673, 130.49456937, 130.56274222, 130.63091528,\n",
       "       130.69908853, 130.76726199, 130.83543564, 130.9036095 ,\n",
       "       130.97178357, 131.03995783, 131.1081323 , 131.17630696,\n",
       "       131.24448183, 131.31265691, 131.38083218, 131.44900766,\n",
       "       131.51718333, 131.58535921, 131.65353529, 131.72171157,\n",
       "       131.78988806, 131.85806474, 131.92624163, 131.99441872,\n",
       "       132.06259601, 132.1307735 , 132.1989512 , 132.26712909,\n",
       "       132.33530719, 132.40348549, 132.47166399, 132.53984269,\n",
       "       132.60802159, 132.6762007 , 132.74438   , 132.81255951,\n",
       "       132.88073922, 132.94891913, 133.01709924, 133.08527955,\n",
       "       133.15346006, 133.22164078, 133.28982169, 133.35800281,\n",
       "       133.42618413, 133.49436565, 133.56254737, 133.63072929,\n",
       "       133.69891141, 133.76709373, 133.83527626, 133.90345898,\n",
       "       133.97164191, 134.03982504, 134.10800837, 134.17619189,\n",
       "       134.24437562, 134.31255956, 134.38074369, 134.44892802,\n",
       "       134.51711255, 134.58529729, 134.65348222, 134.72166736,\n",
       "       134.78985269, 134.85803823, 134.92622397, 134.9944099 ,\n",
       "       135.06259604, 135.13078238, 135.19896892, 135.26715566,\n",
       "       135.3353426 , 135.40352974, 135.47171709, 135.53990463,\n",
       "       135.60809237, 135.67628031, 135.74446846, 135.8126568 ,\n",
       "       135.88084534, 135.94903409, 136.01722303, 136.08541218,\n",
       "       136.15360152, 136.22179107, 136.28998081, 136.35817076,\n",
       "       136.4263609 , 136.49455125, 136.5627418 , 136.63093254,\n",
       "       136.69912349, 136.76731463, 136.83550598, 136.90369752,\n",
       "       136.97188927, 137.04008122, 137.10827336, 137.17646571,\n",
       "       137.24465825, 137.312851  , 137.38104394, 137.44923709,\n",
       "       137.51743043, 137.58562398, 137.65381772, 137.72201166,\n",
       "       137.79020581, 137.85840015, 137.92659469, 137.99478944,\n",
       "       138.06298438, 138.13117952, 138.19937486, 138.2675704 ,\n",
       "       138.33576614, 138.40396208, 138.47215822, 138.54035456,\n",
       "       138.60855109, 138.67674783, 138.74494477, 138.8131419 ,\n",
       "       138.88133924, 138.94953677, 139.01773451, 139.08593244,\n",
       "       139.15413057, 139.2223289 , 139.29052743, 139.35872616,\n",
       "       139.42692509, 139.49512422, 139.56332354, 139.63152307,\n",
       "       139.6997228 , 139.76792272, 139.83612284, 139.90432316,\n",
       "       139.97252368, 140.0407244 , 140.10892532, 140.17712644,\n",
       "       140.24532776, 140.31352927, 140.38173099, 140.4499329 ,\n",
       "       140.51813501, 140.58633732, 140.65453983, 140.72274254,\n",
       "       140.79094544, 140.85914855, 140.92735185, 140.99555535,\n",
       "       141.06375905, 141.13196295, 141.20016705, 141.26837134,\n",
       "       141.33657584, 141.40478053, 141.47298542, 141.54119051,\n",
       "       141.6093958 , 141.67760129, 141.74580697, 141.81401286,\n",
       "       141.88221894, 141.95042522, 142.0186317 , 142.08683837,\n",
       "       142.15504525, 142.22325232, 142.29145959, 142.35966706,\n",
       "       142.42787473, 142.49608259, 142.56429065, 142.63249892,\n",
       "       142.70070737, 142.76891603, 142.83712489, 142.90533394,\n",
       "       142.97354319, 143.04175264, 143.10996229, 143.17817213,\n",
       "       143.24638217, 143.31459241, 143.38280285, 143.45101349,\n",
       "       143.51922432, 143.58743535, 143.65564658, 143.72385801,\n",
       "       143.79206963, 143.86028145, 143.92849347, 143.99670569,\n",
       "       144.06491811, 144.13313072, 144.20134353, 144.26955654,\n",
       "       144.33776974, 144.40598314, 144.47419674, 144.54241054,\n",
       "       144.61062453, 144.67883872, 144.74705311, 144.8152677 ,\n",
       "       144.88348248, 144.95169746, 145.01991264, 145.08812802,\n",
       "       145.15634359, 145.22455936, 145.29277533, 145.36099149,\n",
       "       145.42920785, 145.49742441, 145.56564116, 145.63385812,\n",
       "       145.70207526, 145.77029261, 145.83851015, 145.90672789,\n",
       "       145.97494583, 146.04316396, 146.11138229, 146.17960082,\n",
       "       146.24781955, 146.31603847, 146.38425759, 146.4524769 ,\n",
       "       146.52069641, 146.58891612, 146.65713602, 146.72535612,\n",
       "       146.79357642, 146.86179692, 146.93001761, 146.9982385 ,\n",
       "       147.06645958, 147.13468086, 147.20290234, 147.27112401,\n",
       "       147.33934588, 147.40756795, 147.47579021, 147.54401267,\n",
       "       147.61223533, 147.68045818, 147.74868123, 147.81690447,\n",
       "       147.88512791, 147.95335155, 148.02157539, 148.08979941,\n",
       "       148.15802364, 148.22624806, 148.29447268, 148.3626975 ,\n",
       "       148.43092251, 148.49914771, 148.56737311, 148.63559871,\n",
       "       148.70382451, 148.7720505 , 148.84027668, 148.90850307,\n",
       "       148.97672964, 149.04495642, 149.11318339, 149.18141055,\n",
       "       149.24963792, 149.31786547, 149.38609323, 149.45432118,\n",
       "       149.52254932, 149.59077766, 149.6590062 , 149.72723493,\n",
       "       149.79546385, 149.86369298, 149.9319223 , 150.00015181,\n",
       "       150.06838152, 150.13661142, 150.20484152, 150.27307182,\n",
       "       150.34130231, 150.409533  , 150.47776388, 150.54599496,\n",
       "       150.61422623, 150.6824577 , 150.75068936, 150.81892122,\n",
       "       150.88715328, 150.95538553, 151.02361797, 151.09185061,\n",
       "       151.16008345, 151.22831648, 151.2965497 , 151.36478312,\n",
       "       151.43301674, 151.50125055, 151.56948455, 151.63771875,\n",
       "       151.70595315, 151.77418774, 151.84242252, 151.9106575 ,\n",
       "       151.97889268, 152.04712805, 152.11536361, 152.18359937,\n",
       "       152.25183533, 152.32007148, 152.38830782, 152.45654436,\n",
       "       152.52478109, 152.59301802, 152.66125514, 152.72949246,\n",
       "       152.79772997, 152.86596768, 152.93420558, 153.00244368,\n",
       "       153.07068197, 153.13892045, 153.20715913, 153.27539801,\n",
       "       153.34363707, 153.41187634, 153.48011579, 153.54835544,\n",
       "       153.61659529, 153.68483533, 153.75307556, 153.82131599,\n",
       "       153.88955662, 153.95779743, 154.02603844, 154.09427965])"
      ]
     },
     "execution_count": 70,
     "metadata": {},
     "output_type": "execute_result"
    }
   ],
   "source": [
    "xp = np.linspace(0, 100, 1000)\n",
    "p(xp)"
   ]
  },
  {
   "cell_type": "code",
   "execution_count": 14,
   "metadata": {},
   "outputs": [
    {
     "data": {
      "image/png": "[encoded data removed]",
      "text/plain": [
       "<Figure size 432x288 with 1 Axes>"
      ]
     },
     "metadata": {
      "needs_background": "light"
     },
     "output_type": "display_data"
    }
   ],
   "source": [
    "# Visualization\n",
    "import matplotlib.pyplot as plt\n",
    "xp = np.linspace(0, 25000, 100000)\n",
    "_ = plt.plot(x, y, 'r^', xp, p(xp), '.',linewidth=0.5)\n",
    "plt.xlim(0,25000)\n",
    "plt.show()"
   ]
  },
  {
   "cell_type": "code",
   "execution_count": 18,
   "metadata": {},
   "outputs": [
    {
     "data": {
      "text/plain": [
       "array([[1.66000000e+03, 1.23200000e+03, 2.75560000e+06, ...,\n",
       "        5.15285948e+15, 3.82429089e+15, 2.83826890e+15],\n",
       "       [2.18600000e+03, 1.92400000e+03, 4.77859600e+06, ...,\n",
       "        3.40341978e+16, 2.99550762e+16, 2.63648520e+16],\n",
       "       [1.42800000e+03, 1.09700000e+03, 2.03918400e+06, ...,\n",
       "        2.69200770e+15, 2.06801992e+15, 1.58866796e+15],\n",
       "       ...,\n",
       "       [2.09700000e+03, 1.91500000e+03, 4.39740900e+06, ...,\n",
       "        3.08818419e+16, 2.82015867e+16, 2.57539526e+16],\n",
       "       [1.07050000e+04, 2.45300000e+03, 1.14597025e+08, ...,\n",
       "        1.69147658e+18, 3.87593838e+17, 8.88152906e+16],\n",
       "       [2.98900000e+03, 1.85500000e+03, 8.93412100e+06, ...,\n",
       "        5.70274000e+16, 3.53917120e+16, 2.19644114e+16]])"
      ]
     },
     "execution_count": 18,
     "metadata": {},
     "output_type": "execute_result"
    }
   ],
   "source": [
    "# Preprocessing library in scikit-learn can create polynomial feature objects \n",
    "# fit_trasform(): used to transform features into polynomial feature\n",
    "\n",
    "from sklearn.preprocessing import PolynomialFeatures\n",
    "# Constructor of polynomial feature with specific order\n",
    "PF= PolynomialFeatures(degree=5, include_bias=False)\n",
    "x_polly= PF.fit_transform(data[[\"Apps\",\"Accept\"]])\n",
    "x_polly"
   ]
  },
  {
   "cell_type": "code",
   "execution_count": 24,
   "metadata": {},
   "outputs": [],
   "source": [
    "# Constructor Standard Scaler is used to normalize each feature simultaneously\n",
    "from sklearn.preprocessing import StandardScaler\n",
    "SCALE= StandardScaler()\n",
    "SCALE.fit(data[[\"Apps\",\"Accept\"]])\n",
    "x_scale= SCALE.transform(data[[\"Apps\",\"Accept\"]])"
   ]
  },
  {
   "cell_type": "code",
   "execution_count": 25,
   "metadata": {},
   "outputs": [
    {
     "data": {
      "text/plain": [
       "array([[-0.34688182, -0.32120545],\n",
       "       [-0.21088404, -0.03870299],\n",
       "       [-0.40686563, -0.37631793],\n",
       "       ...,\n",
       "       [-0.23389507, -0.04237716],\n",
       "       [ 1.99171118,  0.17725626],\n",
       "       [-0.00326766, -0.06687159]])"
      ]
     },
     "execution_count": 25,
     "metadata": {},
     "output_type": "execute_result"
    }
   ],
   "source": [
    "x_scale"
   ]
  },
  {
   "cell_type": "markdown",
   "metadata": {},
   "source": [
    "#### PIPELINE\n",
    "\n",
    "* (2 STEPS FOR TRANSFORMATION AND LAST STEP FOR PREDICTION)\n",
    "* PIPELINE SEQUENTIALLY PERFORM A SERIES OF TRANSFORMATION\n",
    "* NORMALIZATION\n",
    "* POLYNOMIAL TRANSFORM\n",
    "* LINEAR REGRESSION "
   ]
  },
  {
   "cell_type": "code",
   "execution_count": 16,
   "metadata": {},
   "outputs": [],
   "source": [
    "# IMPORT ALL THE MODULES NECESSSARY\n",
    "from sklearn.linear_model import LinearRegression\n",
    "from sklearn.preprocessing import PolynomialFeatures\n",
    "from sklearn.preprocessing import StandardScaler\n",
    "from sklearn.pipeline import Pipeline"
   ]
  },
  {
   "cell_type": "code",
   "execution_count": 20,
   "metadata": {},
   "outputs": [],
   "source": [
    "# Input contain the name of estimator model and their constructor\n",
    "Input= [('scale', StandardScaler()),('polynomial',PolynomialFeatures()),('mode',LinearRegression())]\n",
    "\n",
    "# PIPELINE CONSTRUCTOR\n",
    "# Create an pipeline object\n",
    "pipe= Pipeline(Input)\n"
   ]
  },
  {
   "cell_type": "code",
   "execution_count": 25,
   "metadata": {},
   "outputs": [
    {
     "data": {
      "text/plain": [
       "array([[ 1455.29610603,  1486.00049206,  1016.59539183,   500.54521319,\n",
       "           66.21213247,   579.36870968,   422.87387147,  1489.40320259,\n",
       "          886.85149717,   466.32188979,  1561.06966098,  1621.85152589,\n",
       "          796.01008471,  1133.08812429,   350.00692796,   769.27253176,\n",
       "         1316.73388554,  1043.40309508,   800.60739181,  2361.21822888,\n",
       "          917.52295576,  4988.52481639,   650.10456902,  9235.16438165,\n",
       "          469.60772071,  1335.60827353,  1452.44893223,  5909.91709889,\n",
       "          718.3389972 ,  1469.70841039,   771.79257544,   846.29091891,\n",
       "          444.18910471,   519.9896976 ,  1547.11216131,   292.15426677,\n",
       "         1122.2201501 ,  1779.86365834,   786.84281424,  4718.08222406,\n",
       "         1053.56404871,   654.32698304,   451.6696227 ,   984.27158806,\n",
       "         1058.78766306,   847.86159293,   596.99886502,   834.29819522,\n",
       "         2000.59771065,  1280.59961144,   560.02369093,   252.97983044,\n",
       "          250.55188716,  1089.6840742 ,   820.06563649,   336.57445234,\n",
       "         3640.77433764,   352.8137117 ,   589.83979359, 11495.03966499,\n",
       "         1600.7582853 ,  6960.51476008,   572.15931871,  2867.76920771,\n",
       "         2346.86303402,   390.40984661,  1400.68086146,   395.09879578,\n",
       "          739.8071056 ,  4471.4930967 ,  4110.04352956,  1196.74906199,\n",
       "         2656.54751506,   890.20529185,  1964.04511549,   641.45749792,\n",
       "          649.04438696,   722.65354382,  4842.21513986,  3385.13264404,\n",
       "         2019.66591732,  1503.03670626,   578.39170771,  2057.14738271,\n",
       "         1341.20280759,   152.86524681,  1688.32156902,  3538.54997943,\n",
       "         1017.06279863,  1005.41036533,  1293.94770965,  2235.82583046,\n",
       "          907.16325339,   757.83316259,  1490.06847468,  1907.49060439,\n",
       "          722.46001515,  1165.05254942,   334.76374512,   456.28791482,\n",
       "          648.4757601 ,  1045.27895592,  2552.38746534,  3235.03712751,\n",
       "         2128.52075918,   165.06151638,   830.58175205,  1221.39789848,\n",
       "          407.15963537,   319.00757487,   149.03548946,   600.4326212 ,\n",
       "          837.36499563,   859.20268624,   905.2272394 ,  1544.95903372,\n",
       "          506.15157455,  1753.05502376,  5723.89584487,   504.74298867,\n",
       "          904.58508974,   707.05251955,  1563.37489137,  2250.33482325,\n",
       "          945.08576884,  3138.84793501,   660.11894188,   618.98119269,\n",
       "          362.07505564,   485.09390449,  1287.83094428,   585.58104738,\n",
       "          419.85137049,   657.14300476,   523.88815411,   147.60497931,\n",
       "          776.10842288,  2143.27332439,  3863.98499453,  1766.95923729,\n",
       "         1630.32090106,  6168.76921528,   320.10846998,   651.00290749,\n",
       "         2606.71722187,   384.379886  ,   206.75008292,   468.75198736,\n",
       "          488.85668276,  1496.5370052 ,   483.35278301,  1256.24381339,\n",
       "         2247.78879738,   900.29405677,   800.62864056,   473.66313391,\n",
       "          464.84433148,   524.39715892,  3097.57245878,  1534.85278505,\n",
       "          533.44572761,   730.26196186,  1749.38909913,  1519.65494681,\n",
       "         1647.14233924,   349.77205952,  1445.363103  ,   660.86164596,\n",
       "          251.04718398,   741.68331341,   935.36181552,  2332.40770701,\n",
       "         1189.49791985,   679.83842037,  4566.65713008,   964.26950218,\n",
       "         6322.67544008,  2518.2334549 ,   328.35645589,   494.59938797,\n",
       "         1365.25318334,  3873.22344547,   509.01620159,   477.82712809,\n",
       "         1207.4148472 ,  1403.15365314,  1158.32945622,   403.08708082,\n",
       "         2360.23023097,  2267.35338669,   527.09775752,  3742.54266984,\n",
       "         1239.70491145,   512.10918351,   440.26202739,  1108.36215998,\n",
       "         2478.93936173,  1069.80564413,   921.93990329,   855.9461463 ,\n",
       "         1541.54172343,  2328.85056006,   972.88787582,  7927.17602574,\n",
       "          322.25282983,  2785.97625789,  2470.9633159 ,  1505.53120832,\n",
       "          528.7117033 ,   725.92587968,  1784.14875063,   593.7783178 ,\n",
       "          348.95635445,  1908.33633857,  1828.04624521,   809.78879764,\n",
       "          589.08283924,   873.53819098,  4383.86333837,  4506.78523839,\n",
       "          609.87750734,  4119.32238088,  5442.32880132,  2721.3314766 ,\n",
       "          322.65568597,  1885.34945192,   499.37466846,  1507.75585038,\n",
       "          813.2102487 ,   476.79393537,   916.95056741,   485.63793564,\n",
       "          538.03214083,  3610.03388979,   647.92998275,   433.28390801,\n",
       "          535.73091456,  1437.12335407,  1521.96343172,  1026.38480929,\n",
       "         1819.12206546,   350.38969558,  1532.78128149,   999.03781026,\n",
       "          892.88121619,  4338.84807131,   757.14869968,   458.23515122,\n",
       "         1338.88638497,  1486.21246424,  4586.33268884,   773.87669026,\n",
       "          664.30577702,   662.79598711,   927.16955338,   847.47365299,\n",
       "         1716.6421799 ,  4249.05139188,   704.88139551,   657.52252449,\n",
       "         1655.3376718 ,   785.31814928,   372.97835574,   420.40871227,\n",
       "          327.69556995,   748.47490255,   638.05181722,   620.00316124,\n",
       "         1474.48034631,  6085.27698379,  1575.40331631,   291.26657047,\n",
       "          874.34822628,  5183.78920182, 13607.24843476,   743.10438988,\n",
       "         2806.14476873,  6906.10636638,  4152.96514362,  6674.4602089 ,\n",
       "          516.62785214,  1842.09611986,   539.4002891 ,  2100.03654522,\n",
       "         2592.6758568 ,   632.254235  ,   337.04737612,  1007.78157077,\n",
       "         5100.25434061,   402.60928704,  2106.55739146,   427.21630305,\n",
       "         1480.42308665,   418.21527265,  1093.84798108,   307.16471633,\n",
       "         1029.40303854,   376.28668384,  1874.7694865 ,  1846.76734503,\n",
       "          328.89095346,  1009.92676229,   530.32440027,  1789.64750881,\n",
       "          479.74188833,   870.85596819,  1186.88953361,  1180.8050861 ,\n",
       "         1058.79656433,  3346.72076182,   748.45817759,   296.13190715,\n",
       "          437.94401488,  1592.33334214,  1014.81916163,   610.79714261,\n",
       "          991.47346582,   702.68903788,  1349.74635807,   443.20638736,\n",
       "         2093.0024399 ,  1845.13304635,  1387.81889964,  1000.73991368,\n",
       "         5022.78884283,  1934.68646283,  2296.54333225,  2291.26775881,\n",
       "         1756.61857693,  2421.75698466,  1597.6006598 ,  1132.19241051,\n",
       "         1157.35847628,   449.59224492,  1519.02287682,   508.61921029,\n",
       "          972.97108268,   704.08131909,  1659.53117641,   791.17398566,\n",
       "         2421.1630381 ,   781.23506033,  1122.32055747,  2620.59968665,\n",
       "         4262.9668914 ,  3296.76428227,   534.47824903,  2458.07574364,\n",
       "          395.89299893,   663.50107455,   677.87478423,   707.8651806 ,\n",
       "          463.14539311,   881.18956091,  3281.98693221,   139.16753831,\n",
       "          485.60537253,   439.21253697,   241.57485447,  1637.75726849,\n",
       "         1104.18652753,   730.69642955,  1509.8132276 ,  1344.97689193,\n",
       "         1503.62402802,  7459.01869013, 14950.20363933,  2122.18992957,\n",
       "          228.79034923,  3290.22159102,   447.64549011,  1262.51901952,\n",
       "          852.05292295,  1186.12716457,   462.43916298,  3709.16976509,\n",
       "          407.48930555,  1380.71661863,   884.6113085 ,   678.98160822,\n",
       "         1532.15945172,   502.334396  ,  2930.11841458,  3033.61360854,\n",
       "          241.73161809,  1866.79770435,  1028.94384111,  2227.64139689,\n",
       "          614.57296819,   503.5075886 ,  1874.71756715,   230.536536  ,\n",
       "          263.04096276,   426.81270652,   289.22409056,  1009.6316557 ,\n",
       "          757.5565696 ,   440.6568912 ,  1270.92486142,   547.67471725,\n",
       "         1553.27522106,  1762.67803069,  1088.01533053,   556.03796071,\n",
       "          746.47049646,  1243.14509223,   473.09001902,  7458.54747817,\n",
       "          527.53507842,  1392.758073  ,   832.43513932,  3362.89431231,\n",
       "         7812.41738507,   510.22916746,   911.47873617,  2589.73214131,\n",
       "          583.67390373,  4005.50687539,  7476.39193689,  4338.92620931,\n",
       "         6886.37181346,  2107.97926704,   836.95018499,   914.16560642,\n",
       "         5920.48691253,  1787.91701541,   348.47737395,  2652.44036586,\n",
       "         2106.80793131,  1291.86502717,   629.42209424,  2082.41551176,\n",
       "         7890.06563798,  1533.9231069 ,   700.15260778,   643.91696825,\n",
       "         3558.83051783,  1266.85434923,   804.33540867,  1119.49925836,\n",
       "         4737.22606217,  1435.86186773,   999.4239558 ,   948.71886167,\n",
       "          783.46433607, 11363.53580213,  2175.23083095,   494.40922895,\n",
       "          521.63851219,  1265.93426419,   507.62637207,   329.96309082,\n",
       "          299.81675347,   912.63559891,   900.43655619,   626.55780676,\n",
       "         1089.55116889,  1761.40306423,   878.21941061,  2875.12314858,\n",
       "         2967.07873371, 15981.02299483,   448.51260647,   811.27933288,\n",
       "         2353.27492534,  4057.87475912,  1149.94995886,  1065.65230058,\n",
       "          655.55867328,  1263.23071492,   504.34047221,  2998.44655065,\n",
       "         1322.88843958,  2204.46224642,   804.18505888,   381.72603039,\n",
       "         1397.72373143,   828.1966553 ,   551.28693388,  2047.08226421,\n",
       "         1307.98400426,   416.3646917 ,  2189.40283182, 25796.89306175,\n",
       "         1421.52227502,  2627.14607073,  1510.89063283,   747.2932969 ,\n",
       "         1532.1502965 ,  3107.80363948,   220.98962948,   831.66836841,\n",
       "         1156.89508373,   670.73980439,   617.52656571,  2148.48457489,\n",
       "          333.20427448,  2517.85342333,  1079.51477303,   938.57841912,\n",
       "          248.19479201,  1393.53453414,  2121.21482097,  1291.84798792,\n",
       "          722.82899391,   751.58912796,   411.82473429,   372.10032411,\n",
       "         2415.77758799,  1450.59755508,  6085.5526731 ,  2619.92499652,\n",
       "         1095.02524401,   776.57619072,   389.77607309,   674.24112799,\n",
       "         1142.03609899,  1481.84053006,  2904.07922332,   671.37970762,\n",
       "         3433.09831695,   378.89008096,  1839.88595097,   448.31010434,\n",
       "         1058.59346183,   837.61109558,   466.35486344,  1877.18846488,\n",
       "         2096.57075251,  2250.3780633 ,  2119.05432839,   629.07079002,\n",
       "          417.01737325,  2008.88004861,  3212.87027282,  1146.97842853,\n",
       "         4838.55687867,   757.90485058,   341.68201372,   143.65481091,\n",
       "          996.75473198,   214.46355676,  1835.53475988,   420.43565049,\n",
       "         1055.83260923,   627.36308807,  1015.58846049,  1720.37653252,\n",
       "          300.94215528,  1497.96657706,   760.53654417,   939.74043909,\n",
       "         1478.01400687,   411.96919151,   585.24001744,   671.02522985,\n",
       "         1342.23842674,  1332.21131432,  2334.84280914,  1913.80535175,\n",
       "         7506.70344436,  7786.35887026,  9602.29396047,  6900.68843284,\n",
       "         3786.28386677,  4723.63131052,  3147.36719712,  4190.04272893,\n",
       "         2733.29742516,  4598.23871356,  3896.36049855,  3045.19144988,\n",
       "         1889.09133666,  1127.44876145,  1540.12981003,   580.64227096,\n",
       "         7114.19079098,   258.78576738,  2093.05849678,  1253.59782684,\n",
       "          217.81829509, 10657.95268341,   353.03859056,  2926.70098064,\n",
       "          448.59801783,  4451.00786203,   470.05889092,  1262.40767517,\n",
       "          756.58571795,   579.19088153,   677.97602815,  2956.06659803,\n",
       "          816.10135721,  1614.08902014,   330.25370004,   283.90780973,\n",
       "         1729.54422046,  3643.78944006,   407.62275714,  1485.29405058,\n",
       "          391.32901849,  1734.62917046,  3467.43193504,  1352.72871117,\n",
       "         2918.84981607, 10976.40113365,  8410.00558778,  4749.9839403 ,\n",
       "          566.69936591,  2767.1492456 ,  5503.01687156,  6101.20557038,\n",
       "          658.60687127,  4234.82419911,  9485.86502034,  1844.66820122,\n",
       "         1008.25072775,   456.80252038,  1792.21822945,  8888.98589333,\n",
       "         7857.44927715,  3470.34107105,  2661.91331566, 11848.33506509,\n",
       "         6190.26188323,  1096.42362391,  6983.59540743,   837.85768706,\n",
       "         3709.19936957,   933.62761533,   307.27477309,   440.5027029 ,\n",
       "         2730.98367464,  9617.38195849, 10165.71871625,  2360.66759334,\n",
       "         4856.08997556, 14240.26359054,  3554.76993656,  1342.1970235 ,\n",
       "         8456.83348624,  2913.02931177,  6025.31720368,  1724.36232882,\n",
       "         1134.3434369 ,   408.06254599,  1053.01778316,  5320.6577194 ,\n",
       "          780.01476588,  6896.82621236,  1040.57375431,  9631.04631416,\n",
       "         4117.26216811,  3725.05265817,  3938.1256668 ,  2554.75660309,\n",
       "         1244.54937348,  3333.67381709,  4023.88680942,  3378.65956948,\n",
       "         5596.08410974,  3680.39871868,  6531.5621879 ,  7343.38601144,\n",
       "         6486.80816035,  1230.39631623,  2185.36757043,  5891.30439147,\n",
       "         2541.85039672,  3714.04794728,  2603.74048729,  1595.3149633 ,\n",
       "          174.10019315,  2703.46529715,   671.38779748,  5630.7447632 ,\n",
       "         4997.17805674,  7397.20803754,  1179.62242827,  2002.03381361,\n",
       "         2031.56396419,  2056.80251327,   393.18207636,  5671.3957839 ,\n",
       "         2470.36777183, 10682.9386397 ,  3055.64579798,   815.26591041,\n",
       "         1849.90228611,  1124.35731082,  1662.05971261,  4288.65986044,\n",
       "         5082.07393972,  8701.40740211,  8876.46919196,  1055.27275577,\n",
       "         2108.93134794,   697.91891894,  3324.41903441,  1735.96078191,\n",
       "        11375.52967805,  4305.4050695 ,  1769.37391917,   498.90345944,\n",
       "         1054.8535907 ,   278.18778562,   237.01073565,  1490.47094691,\n",
       "         4510.50032289,  2126.45498761,  4426.0629216 ,  3891.34466517,\n",
       "         1868.26010067, 11491.24574232,  1189.29898753,   909.09520746,\n",
       "          620.920278  ,   753.85819367,   793.79155218,  1235.8817116 ,\n",
       "         2870.35607826,  1023.01796659,   371.63191933,  1007.10951572,\n",
       "         1198.69527846,  1496.53772488,   823.66641979,  5250.8122411 ,\n",
       "         3814.31869762,   949.74280725,   844.72553128,   112.82308493,\n",
       "          559.92568295,  1920.86477184,   535.82236476,  1099.12284735,\n",
       "          866.2264619 ,  2423.60962894,  4013.78598987,   801.33253919,\n",
       "         1456.91609975,  2450.90125738,   953.79668951,  6550.19874911,\n",
       "         1108.82630143,  1655.03743206,  3872.33817012,  2020.88549833,\n",
       "          525.0574255 ,  1041.19145755,   582.02763654,  1093.97409027,\n",
       "         1391.79236903,  1498.78750091,   624.03144609,  1255.52732239,\n",
       "         1206.55266316,  1041.42612745,  1486.13460846,  1207.29038139,\n",
       "         1292.83976663,   737.29407176,   556.48054553,  1662.39109014,\n",
       "          224.9413252 ,   893.84717276,  2456.15645948,  1658.26834201,\n",
       "          188.63503513,  1815.1459293 ,   911.374572  ,  2106.20920714,\n",
       "         1407.82920477,  1760.34434054,  1512.03480149,  3677.37782883,\n",
       "         1844.76748583]])"
      ]
     },
     "execution_count": 25,
     "metadata": {},
     "output_type": "execute_result"
    }
   ],
   "source": [
    "# Train the pipeline object\n",
    "x = data[[\"Apps\",\"Enroll\",\"Outstate\",\"Books\"]]\n",
    "y = data[[\"Accept\"]]\n",
    "\n",
    "# The method .fit() normalize the data, perform polynomial transformation\n",
    "# The method .predict() is a function to predict the target value\n",
    "pipe.fit(x,y)\n",
    "pipe.predict(x).transpose()"
   ]
  },
  {
   "cell_type": "markdown",
   "metadata": {},
   "source": [
    "## MEASURES FOR IN-SAMPLE EVALUATION\n",
    "\n",
    "* THESE ARE NUMERICAL VALUES DETERMINING HOW GOOD THE MODEL FIT OUR DATA\n",
    "* MEAN-SQUARE ERROR (MSE)\n",
    "* R-SQUARE (R^2)"
   ]
  },
  {
   "cell_type": "markdown",
   "metadata": {},
   "source": [
    "#### MEAN SQUARED ERROR"
   ]
  },
  {
   "cell_type": "code",
   "execution_count": 68,
   "metadata": {},
   "outputs": [
    {
     "data": {
      "text/plain": [
       "659431.1053174739"
      ]
     },
     "execution_count": 68,
     "metadata": {},
     "output_type": "execute_result"
    }
   ],
   "source": [
    "from sklearn.metrics import mean_squared_error\n",
    "\n",
    "yp= fx(x)\n",
    "mean_squared_error(y,yp)"
   ]
  },
  {
   "cell_type": "markdown",
   "metadata": {},
   "source": [
    "#### R SQUARED (COEFFICIENT OF DETERMINATION)\n",
    "\n",
    "* How close the data is to the fitted regression line\n",
    "* More specifically, it determine the percentage of explained variables that is explained by the regression line\n",
    "* Compare the regression model to the simple model (the mean of data points)"
   ]
  },
  {
   "cell_type": "code",
   "execution_count": 73,
   "metadata": {},
   "outputs": [
    {
     "data": {
      "text/plain": [
       "0.8900989818886287"
      ]
     },
     "execution_count": 73,
     "metadata": {},
     "output_type": "execute_result"
    }
   ],
   "source": [
    "# function .score(): used to calculate the R squared\n",
    "x = data[[\"Apps\"]]\n",
    "y = data[[\"Accept\"]]\n",
    "\n",
    "lm.fit(x,y)\n",
    "lm.score(x,y)\n",
    "# Conclusion, so over 89% of the y-actual values are well explained by the regression model"
   ]
  },
  {
   "cell_type": "code",
   "execution_count": null,
   "metadata": {},
   "outputs": [],
   "source": []
  }
 ],
 "metadata": {
  "kernelspec": {
   "display_name": "Python 3",
   "language": "python",
   "name": "python3"
  },
  "language_info": {
   "codemirror_mode": {
    "name": "ipython",
    "version": 3
   },
   "file_extension": ".py",
   "mimetype": "text/x-python",
   "name": "python",
   "nbconvert_exporter": "python",
   "pygments_lexer": "ipython3",
   "version": "3.8.5"
  }
 },
 "nbformat": 4,
 "nbformat_minor": 4
}
