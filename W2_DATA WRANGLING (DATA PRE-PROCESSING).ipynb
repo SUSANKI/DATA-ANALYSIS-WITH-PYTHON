{
 "cells": [
  {
   "cell_type": "markdown",
   "metadata": {},
   "source": [
    "# DATA WRANGLING (DATA PRE-PROCESSING)"
   ]
  },
  {
   "cell_type": "code",
   "execution_count": 32,
   "metadata": {},
   "outputs": [
    {
     "data": {
      "text/plain": [
       "<AxesSubplot:>"
      ]
     },
     "execution_count": 32,
     "metadata": {},
     "output_type": "execute_result"
    },
    {
     "data": {
      "image/png": "[encoded data removed]",
      "text/plain": [
       "<Figure size 432x288 with 1 Axes>"
      ]
     },
     "metadata": {
      "needs_background": "light"
     },
     "output_type": "display_data"
    }
   ],
   "source": [
    "import pandas as pd\n",
    "import numpy as np\n",
    "from matplotlib import pyplot as plt\n",
    "from IPython.display import display\n",
    "url=\"C:/Users/Win 10/Documents/FB.csv\"\n",
    "data= pd.read_csv(url)\n",
    "data[[\"Open\",\"High\",\"Low\",\"Close\"]].plot()"
   ]
  },
  {
   "cell_type": "markdown",
   "metadata": {},
   "source": [
    "### HANDLE THE MISSING VALUE"
   ]
  },
  {
   "cell_type": "markdown",
   "metadata": {},
   "source": [
    "* 1. Drop the entire row or entire column containing the missing values\n",
    "* 2. Numeric data: replace the missing value by the average of remaining\n",
    "* 3. Categorical data: replace by the mode of that column"
   ]
  },
  {
   "cell_type": "code",
   "execution_count": 11,
   "metadata": {},
   "outputs": [
    {
     "data": {
      "text/html": [
       "<div>\n",
       "<style scoped>\n",
       "    .dataframe tbody tr th:only-of-type {\n",
       "        vertical-align: middle;\n",
       "    }\n",
       "\n",
       "    .dataframe tbody tr th {\n",
       "        vertical-align: top;\n",
       "    }\n",
       "\n",
       "    .dataframe thead th {\n",
       "        text-align: right;\n",
       "    }\n",
       "</style>\n",
       "<table border=\"1\" class=\"dataframe\">\n",
       "  <thead>\n",
       "    <tr style=\"text-align: right;\">\n",
       "      <th></th>\n",
       "      <th>Date</th>\n",
       "      <th>Open</th>\n",
       "      <th>High</th>\n",
       "      <th>Low</th>\n",
       "      <th>Close</th>\n",
       "      <th>Adj Close</th>\n",
       "      <th>Volume</th>\n",
       "    </tr>\n",
       "  </thead>\n",
       "  <tbody>\n",
       "    <tr>\n",
       "      <th>0</th>\n",
       "      <td>2019-12-02</td>\n",
       "      <td>202.130005</td>\n",
       "      <td>202.179993</td>\n",
       "      <td>198.050003</td>\n",
       "      <td>199.699997</td>\n",
       "      <td>199.699997</td>\n",
       "      <td>11503400</td>\n",
       "    </tr>\n",
       "    <tr>\n",
       "      <th>1</th>\n",
       "      <td>2019-12-03</td>\n",
       "      <td>197.600006</td>\n",
       "      <td>198.929993</td>\n",
       "      <td>195.080002</td>\n",
       "      <td>198.820007</td>\n",
       "      <td>198.820007</td>\n",
       "      <td>11595300</td>\n",
       "    </tr>\n",
       "    <tr>\n",
       "      <th>2</th>\n",
       "      <td>2019-12-04</td>\n",
       "      <td>200.000000</td>\n",
       "      <td>200.029999</td>\n",
       "      <td>198.050003</td>\n",
       "      <td>198.710007</td>\n",
       "      <td>198.710007</td>\n",
       "      <td>8456300</td>\n",
       "    </tr>\n",
       "    <tr>\n",
       "      <th>3</th>\n",
       "      <td>2019-12-05</td>\n",
       "      <td>199.860001</td>\n",
       "      <td>201.289993</td>\n",
       "      <td>198.210007</td>\n",
       "      <td>199.360001</td>\n",
       "      <td>199.360001</td>\n",
       "      <td>9740400</td>\n",
       "    </tr>\n",
       "    <tr>\n",
       "      <th>4</th>\n",
       "      <td>2019-12-06</td>\n",
       "      <td>200.500000</td>\n",
       "      <td>201.570007</td>\n",
       "      <td>200.059998</td>\n",
       "      <td>201.050003</td>\n",
       "      <td>201.050003</td>\n",
       "      <td>12270600</td>\n",
       "    </tr>\n",
       "  </tbody>\n",
       "</table>\n",
       "</div>"
      ],
      "text/plain": [
       "         Date        Open        High         Low       Close   Adj Close  \\\n",
       "0  2019-12-02  202.130005  202.179993  198.050003  199.699997  199.699997   \n",
       "1  2019-12-03  197.600006  198.929993  195.080002  198.820007  198.820007   \n",
       "2  2019-12-04  200.000000  200.029999  198.050003  198.710007  198.710007   \n",
       "3  2019-12-05  199.860001  201.289993  198.210007  199.360001  199.360001   \n",
       "4  2019-12-06  200.500000  201.570007  200.059998  201.050003  201.050003   \n",
       "\n",
       "     Volume  \n",
       "0  11503400  \n",
       "1  11595300  \n",
       "2   8456300  \n",
       "3   9740400  \n",
       "4  12270600  "
      ]
     },
     "execution_count": 11,
     "metadata": {},
     "output_type": "execute_result"
    }
   ],
   "source": [
    "# function .dropna(): used to drop the row (axis=0) and column (axis=1) of NA values\n",
    "data.dropna(subset=[\"Close\"],axis=0,inplace=True)\n",
    "data.head(5)"
   ]
  },
  {
   "cell_type": "code",
   "execution_count": 12,
   "metadata": {},
   "outputs": [
    {
     "data": {
      "text/html": [
       "<div>\n",
       "<style scoped>\n",
       "    .dataframe tbody tr th:only-of-type {\n",
       "        vertical-align: middle;\n",
       "    }\n",
       "\n",
       "    .dataframe tbody tr th {\n",
       "        vertical-align: top;\n",
       "    }\n",
       "\n",
       "    .dataframe thead th {\n",
       "        text-align: right;\n",
       "    }\n",
       "</style>\n",
       "<table border=\"1\" class=\"dataframe\">\n",
       "  <thead>\n",
       "    <tr style=\"text-align: right;\">\n",
       "      <th></th>\n",
       "      <th>Date</th>\n",
       "      <th>Open</th>\n",
       "      <th>High</th>\n",
       "      <th>Low</th>\n",
       "      <th>Close</th>\n",
       "      <th>Adj Close</th>\n",
       "      <th>Volume</th>\n",
       "    </tr>\n",
       "  </thead>\n",
       "  <tbody>\n",
       "    <tr>\n",
       "      <th>0</th>\n",
       "      <td>2019-12-02</td>\n",
       "      <td>202.130005</td>\n",
       "      <td>202.179993</td>\n",
       "      <td>198.050003</td>\n",
       "      <td>199.699997</td>\n",
       "      <td>199.699997</td>\n",
       "      <td>11503400</td>\n",
       "    </tr>\n",
       "    <tr>\n",
       "      <th>1</th>\n",
       "      <td>2019-12-03</td>\n",
       "      <td>197.600006</td>\n",
       "      <td>198.929993</td>\n",
       "      <td>195.080002</td>\n",
       "      <td>198.820007</td>\n",
       "      <td>198.820007</td>\n",
       "      <td>11595300</td>\n",
       "    </tr>\n",
       "    <tr>\n",
       "      <th>2</th>\n",
       "      <td>2019-12-04</td>\n",
       "      <td>200.000000</td>\n",
       "      <td>200.029999</td>\n",
       "      <td>198.050003</td>\n",
       "      <td>198.710007</td>\n",
       "      <td>198.710007</td>\n",
       "      <td>8456300</td>\n",
       "    </tr>\n",
       "    <tr>\n",
       "      <th>3</th>\n",
       "      <td>2019-12-05</td>\n",
       "      <td>199.860001</td>\n",
       "      <td>201.289993</td>\n",
       "      <td>198.210007</td>\n",
       "      <td>199.360001</td>\n",
       "      <td>199.360001</td>\n",
       "      <td>9740400</td>\n",
       "    </tr>\n",
       "    <tr>\n",
       "      <th>4</th>\n",
       "      <td>2019-12-06</td>\n",
       "      <td>200.500000</td>\n",
       "      <td>201.570007</td>\n",
       "      <td>200.059998</td>\n",
       "      <td>201.050003</td>\n",
       "      <td>201.050003</td>\n",
       "      <td>12270600</td>\n",
       "    </tr>\n",
       "  </tbody>\n",
       "</table>\n",
       "</div>"
      ],
      "text/plain": [
       "         Date        Open        High         Low       Close   Adj Close  \\\n",
       "0  2019-12-02  202.130005  202.179993  198.050003  199.699997  199.699997   \n",
       "1  2019-12-03  197.600006  198.929993  195.080002  198.820007  198.820007   \n",
       "2  2019-12-04  200.000000  200.029999  198.050003  198.710007  198.710007   \n",
       "3  2019-12-05  199.860001  201.289993  198.210007  199.360001  199.360001   \n",
       "4  2019-12-06  200.500000  201.570007  200.059998  201.050003  201.050003   \n",
       "\n",
       "     Volume  \n",
       "0  11503400  \n",
       "1  11595300  \n",
       "2   8456300  \n",
       "3   9740400  \n",
       "4  12270600  "
      ]
     },
     "execution_count": 12,
     "metadata": {},
     "output_type": "execute_result"
    }
   ],
   "source": [
    "# function .replace(): used to replace the NA values with certain new value\n",
    "mean= data[\"Volume\"].mean()\n",
    "data[\"Volume\"]=data[\"Volume\"].replace(np.nan,mean)\n",
    "data.head(5)"
   ]
  },
  {
   "cell_type": "markdown",
   "metadata": {},
   "source": [
    "### DATA FORMATING"
   ]
  },
  {
   "cell_type": "markdown",
   "metadata": {},
   "source": [
    "* Data are usually been collected from different sources and formats\n",
    "* Data formating is used to bring all into common standard of expression in order to make meaningful comparison"
   ]
  },
  {
   "cell_type": "code",
   "execution_count": 16,
   "metadata": {},
   "outputs": [
    {
     "data": {
      "text/html": [
       "<div>\n",
       "<style scoped>\n",
       "    .dataframe tbody tr th:only-of-type {\n",
       "        vertical-align: middle;\n",
       "    }\n",
       "\n",
       "    .dataframe tbody tr th {\n",
       "        vertical-align: top;\n",
       "    }\n",
       "\n",
       "    .dataframe thead th {\n",
       "        text-align: right;\n",
       "    }\n",
       "</style>\n",
       "<table border=\"1\" class=\"dataframe\">\n",
       "  <thead>\n",
       "    <tr style=\"text-align: right;\">\n",
       "      <th></th>\n",
       "      <th>Date</th>\n",
       "      <th>Open</th>\n",
       "      <th>High</th>\n",
       "      <th>Low</th>\n",
       "      <th>Close Price</th>\n",
       "      <th>Adj Close</th>\n",
       "      <th>Volume</th>\n",
       "    </tr>\n",
       "  </thead>\n",
       "  <tbody>\n",
       "    <tr>\n",
       "      <th>0</th>\n",
       "      <td>2019-12-02</td>\n",
       "      <td>202.130005</td>\n",
       "      <td>202.179993</td>\n",
       "      <td>198.050003</td>\n",
       "      <td>199.699997</td>\n",
       "      <td>199.699997</td>\n",
       "      <td>11503400</td>\n",
       "    </tr>\n",
       "    <tr>\n",
       "      <th>1</th>\n",
       "      <td>2019-12-03</td>\n",
       "      <td>197.600006</td>\n",
       "      <td>198.929993</td>\n",
       "      <td>195.080002</td>\n",
       "      <td>198.820007</td>\n",
       "      <td>198.820007</td>\n",
       "      <td>11595300</td>\n",
       "    </tr>\n",
       "    <tr>\n",
       "      <th>2</th>\n",
       "      <td>2019-12-04</td>\n",
       "      <td>200.000000</td>\n",
       "      <td>200.029999</td>\n",
       "      <td>198.050003</td>\n",
       "      <td>198.710007</td>\n",
       "      <td>198.710007</td>\n",
       "      <td>8456300</td>\n",
       "    </tr>\n",
       "    <tr>\n",
       "      <th>3</th>\n",
       "      <td>2019-12-05</td>\n",
       "      <td>199.860001</td>\n",
       "      <td>201.289993</td>\n",
       "      <td>198.210007</td>\n",
       "      <td>199.360001</td>\n",
       "      <td>199.360001</td>\n",
       "      <td>9740400</td>\n",
       "    </tr>\n",
       "    <tr>\n",
       "      <th>4</th>\n",
       "      <td>2019-12-06</td>\n",
       "      <td>200.500000</td>\n",
       "      <td>201.570007</td>\n",
       "      <td>200.059998</td>\n",
       "      <td>201.050003</td>\n",
       "      <td>201.050003</td>\n",
       "      <td>12270600</td>\n",
       "    </tr>\n",
       "  </tbody>\n",
       "</table>\n",
       "</div>"
      ],
      "text/plain": [
       "         Date        Open        High         Low  Close Price   Adj Close  \\\n",
       "0  2019-12-02  202.130005  202.179993  198.050003   199.699997  199.699997   \n",
       "1  2019-12-03  197.600006  198.929993  195.080002   198.820007  198.820007   \n",
       "2  2019-12-04  200.000000  200.029999  198.050003   198.710007  198.710007   \n",
       "3  2019-12-05  199.860001  201.289993  198.210007   199.360001  199.360001   \n",
       "4  2019-12-06  200.500000  201.570007  200.059998   201.050003  201.050003   \n",
       "\n",
       "     Volume  \n",
       "0  11503400  \n",
       "1  11595300  \n",
       "2   8456300  \n",
       "3   9740400  \n",
       "4  12270600  "
      ]
     },
     "execution_count": 16,
     "metadata": {},
     "output_type": "execute_result"
    }
   ],
   "source": [
    "# Function .rename(): used to rename columns of dataframe\n",
    "data.rename(columns={\"Close\":\"Close Price\"},inplace=True)\n",
    "data.head(5)"
   ]
  },
  {
   "cell_type": "code",
   "execution_count": 23,
   "metadata": {},
   "outputs": [
    {
     "data": {
      "text/plain": [
       "Date          object\n",
       "Open         float64\n",
       "High         float64\n",
       "Low          float64\n",
       "Close        float64\n",
       "Adj Close    float64\n",
       "Volume         int32\n",
       "dtype: object"
      ]
     },
     "metadata": {},
     "output_type": "display_data"
    },
    {
     "data": {
      "text/plain": [
       "Date          object\n",
       "Open         float64\n",
       "High         float64\n",
       "Low          float64\n",
       "Close        float64\n",
       "Adj Close    float64\n",
       "Volume       float64\n",
       "dtype: object"
      ]
     },
     "metadata": {},
     "output_type": "display_data"
    }
   ],
   "source": [
    "# Function as.type(): change the convert data type\n",
    "display(data.dtypes)\n",
    "data[\"Volume\"]=data[\"Volume\"].astype(\"float\")\n",
    "display(data.dtypes)"
   ]
  },
  {
   "cell_type": "markdown",
   "metadata": {},
   "source": [
    "### DATA NORMALIZATION"
   ]
  },
  {
   "cell_type": "markdown",
   "metadata": {},
   "source": [
    "* Values from different attributes can have different range, which is difficult to comare\n",
    "* We can normalize the data into the same range to make statistical analysis easier"
   ]
  },
  {
   "cell_type": "markdown",
   "metadata": {},
   "source": [
    "* There are 3 simple methods for normalizing:\n",
    "* SIMPLE FEATURE SCALING: x.new= x.old/x.max\n",
    "* MIN-MAX:                x.new= (x.old-x.min)/(x.max-x.min)\n",
    "* Z-SCORE:                x.new= (x.old-u)/sigma"
   ]
  },
  {
   "cell_type": "code",
   "execution_count": 27,
   "metadata": {},
   "outputs": [
    {
     "data": {
      "text/plain": [
       "76343900.0"
      ]
     },
     "metadata": {},
     "output_type": "display_data"
    },
    {
     "data": {
      "text/plain": [
       "6046300.0"
      ]
     },
     "metadata": {},
     "output_type": "display_data"
    },
    {
     "data": {
      "text/plain": [
       "22183439.13043478"
      ]
     },
     "metadata": {},
     "output_type": "display_data"
    },
    {
     "data": {
      "text/plain": [
       "10615517.560949897"
      ]
     },
     "metadata": {},
     "output_type": "display_data"
    }
   ],
   "source": [
    "# In order to use the above techniques for normalizing, we can use the following function\n",
    "# .max(), .min() : max and min value \n",
    "# .mean(), .std(): mean and SD\n",
    "\n",
    "display(data[\"Volume\"].max())\n",
    "display(data[\"Volume\"].min())\n",
    "display(data[\"Volume\"].mean())\n",
    "display(data[\"Volume\"].std())"
   ]
  },
  {
   "cell_type": "markdown",
   "metadata": {},
   "source": [
    "### BINNING"
   ]
  },
  {
   "cell_type": "markdown",
   "metadata": {},
   "source": [
    "* Group the values into bins\n",
    "* A way to convert numeric to categorical data"
   ]
  },
  {
   "cell_type": "code",
   "execution_count": 38,
   "metadata": {},
   "outputs": [
    {
     "data": {
      "text/html": [
       "<div>\n",
       "<style scoped>\n",
       "    .dataframe tbody tr th:only-of-type {\n",
       "        vertical-align: middle;\n",
       "    }\n",
       "\n",
       "    .dataframe tbody tr th {\n",
       "        vertical-align: top;\n",
       "    }\n",
       "\n",
       "    .dataframe thead th {\n",
       "        text-align: right;\n",
       "    }\n",
       "</style>\n",
       "<table border=\"1\" class=\"dataframe\">\n",
       "  <thead>\n",
       "    <tr style=\"text-align: right;\">\n",
       "      <th></th>\n",
       "      <th>Date</th>\n",
       "      <th>Open</th>\n",
       "      <th>High</th>\n",
       "      <th>Low</th>\n",
       "      <th>Close</th>\n",
       "      <th>Adj Close</th>\n",
       "      <th>Volume</th>\n",
       "      <th>bin_price</th>\n",
       "    </tr>\n",
       "  </thead>\n",
       "  <tbody>\n",
       "    <tr>\n",
       "      <th>0</th>\n",
       "      <td>2019-12-02</td>\n",
       "      <td>202.130005</td>\n",
       "      <td>202.179993</td>\n",
       "      <td>198.050003</td>\n",
       "      <td>199.699997</td>\n",
       "      <td>199.699997</td>\n",
       "      <td>11503400</td>\n",
       "      <td>A2</td>\n",
       "    </tr>\n",
       "    <tr>\n",
       "      <th>1</th>\n",
       "      <td>2019-12-03</td>\n",
       "      <td>197.600006</td>\n",
       "      <td>198.929993</td>\n",
       "      <td>195.080002</td>\n",
       "      <td>198.820007</td>\n",
       "      <td>198.820007</td>\n",
       "      <td>11595300</td>\n",
       "      <td>A2</td>\n",
       "    </tr>\n",
       "    <tr>\n",
       "      <th>2</th>\n",
       "      <td>2019-12-04</td>\n",
       "      <td>200.000000</td>\n",
       "      <td>200.029999</td>\n",
       "      <td>198.050003</td>\n",
       "      <td>198.710007</td>\n",
       "      <td>198.710007</td>\n",
       "      <td>8456300</td>\n",
       "      <td>A2</td>\n",
       "    </tr>\n",
       "    <tr>\n",
       "      <th>3</th>\n",
       "      <td>2019-12-05</td>\n",
       "      <td>199.860001</td>\n",
       "      <td>201.289993</td>\n",
       "      <td>198.210007</td>\n",
       "      <td>199.360001</td>\n",
       "      <td>199.360001</td>\n",
       "      <td>9740400</td>\n",
       "      <td>A2</td>\n",
       "    </tr>\n",
       "    <tr>\n",
       "      <th>4</th>\n",
       "      <td>2019-12-06</td>\n",
       "      <td>200.500000</td>\n",
       "      <td>201.570007</td>\n",
       "      <td>200.059998</td>\n",
       "      <td>201.050003</td>\n",
       "      <td>201.050003</td>\n",
       "      <td>12270600</td>\n",
       "      <td>A2</td>\n",
       "    </tr>\n",
       "  </tbody>\n",
       "</table>\n",
       "</div>"
      ],
      "text/plain": [
       "         Date        Open        High         Low       Close   Adj Close  \\\n",
       "0  2019-12-02  202.130005  202.179993  198.050003  199.699997  199.699997   \n",
       "1  2019-12-03  197.600006  198.929993  195.080002  198.820007  198.820007   \n",
       "2  2019-12-04  200.000000  200.029999  198.050003  198.710007  198.710007   \n",
       "3  2019-12-05  199.860001  201.289993  198.210007  199.360001  199.360001   \n",
       "4  2019-12-06  200.500000  201.570007  200.059998  201.050003  201.050003   \n",
       "\n",
       "     Volume bin_price  \n",
       "0  11503400        A2  \n",
       "1  11595300        A2  \n",
       "2   8456300        A2  \n",
       "3   9740400        A2  \n",
       "4  12270600        A2  "
      ]
     },
     "execution_count": 38,
     "metadata": {},
     "output_type": "execute_result"
    }
   ],
   "source": [
    "# Function np.linspace(): used to bins the numeric data based on number of categories we want to divide\n",
    "# Function pd.cut(): used to segment and sort tha data into bins\n",
    "bins= np.linspace(min(data[\"Close\"]),max(data[\"Close\"]),5) # I bins into 4 groups\n",
    "names= [\"A1\",\"A2\",\"A3\",\"A4\"]\n",
    "data[\"bin_price\"]=pd.cut(data[\"Close\"],bins,labels=names,include_lowest=True)\n",
    "data.head(5)"
   ]
  },
  {
   "cell_type": "code",
   "execution_count": 37,
   "metadata": {},
   "outputs": [
    {
     "data": {
      "image/png": "[encoded data removed]",
      "text/plain": [
       "<Figure size 432x288 with 1 Axes>"
      ]
     },
     "metadata": {
      "needs_background": "light"
     },
     "output_type": "display_data"
    }
   ],
   "source": [
    "plt.hist(x=data[\"bin_price\"],bins=30)\n",
    "plt.show()"
   ]
  },
  {
   "cell_type": "markdown",
   "metadata": {},
   "source": [
    "### TURN CATEGORICAL TO QUANTITATIVE VALUES"
   ]
  },
  {
   "cell_type": "markdown",
   "metadata": {},
   "source": [
    "* Add dummy variables for each unique value of that categories, then assign value 1 and 0"
   ]
  },
  {
   "cell_type": "code",
   "execution_count": 41,
   "metadata": {},
   "outputs": [
    {
     "data": {
      "text/html": [
       "<div>\n",
       "<style scoped>\n",
       "    .dataframe tbody tr th:only-of-type {\n",
       "        vertical-align: middle;\n",
       "    }\n",
       "\n",
       "    .dataframe tbody tr th {\n",
       "        vertical-align: top;\n",
       "    }\n",
       "\n",
       "    .dataframe thead th {\n",
       "        text-align: right;\n",
       "    }\n",
       "</style>\n",
       "<table border=\"1\" class=\"dataframe\">\n",
       "  <thead>\n",
       "    <tr style=\"text-align: right;\">\n",
       "      <th></th>\n",
       "      <th>Better than U.S. National Rate</th>\n",
       "      <th>No Different than U.S. National Rate</th>\n",
       "      <th>Not Available</th>\n",
       "      <th>Number of Cases Too Small</th>\n",
       "      <th>Worse than U.S. National Rate</th>\n",
       "    </tr>\n",
       "  </thead>\n",
       "  <tbody>\n",
       "    <tr>\n",
       "      <th>0</th>\n",
       "      <td>0</td>\n",
       "      <td>1</td>\n",
       "      <td>0</td>\n",
       "      <td>0</td>\n",
       "      <td>0</td>\n",
       "    </tr>\n",
       "    <tr>\n",
       "      <th>1</th>\n",
       "      <td>0</td>\n",
       "      <td>0</td>\n",
       "      <td>0</td>\n",
       "      <td>0</td>\n",
       "      <td>1</td>\n",
       "    </tr>\n",
       "    <tr>\n",
       "      <th>2</th>\n",
       "      <td>0</td>\n",
       "      <td>1</td>\n",
       "      <td>0</td>\n",
       "      <td>0</td>\n",
       "      <td>0</td>\n",
       "    </tr>\n",
       "    <tr>\n",
       "      <th>3</th>\n",
       "      <td>0</td>\n",
       "      <td>1</td>\n",
       "      <td>0</td>\n",
       "      <td>0</td>\n",
       "      <td>0</td>\n",
       "    </tr>\n",
       "    <tr>\n",
       "      <th>4</th>\n",
       "      <td>0</td>\n",
       "      <td>1</td>\n",
       "      <td>0</td>\n",
       "      <td>0</td>\n",
       "      <td>0</td>\n",
       "    </tr>\n",
       "    <tr>\n",
       "      <th>...</th>\n",
       "      <td>...</td>\n",
       "      <td>...</td>\n",
       "      <td>...</td>\n",
       "      <td>...</td>\n",
       "      <td>...</td>\n",
       "    </tr>\n",
       "    <tr>\n",
       "      <th>4701</th>\n",
       "      <td>0</td>\n",
       "      <td>0</td>\n",
       "      <td>1</td>\n",
       "      <td>0</td>\n",
       "      <td>0</td>\n",
       "    </tr>\n",
       "    <tr>\n",
       "      <th>4702</th>\n",
       "      <td>0</td>\n",
       "      <td>0</td>\n",
       "      <td>0</td>\n",
       "      <td>1</td>\n",
       "      <td>0</td>\n",
       "    </tr>\n",
       "    <tr>\n",
       "      <th>4703</th>\n",
       "      <td>0</td>\n",
       "      <td>0</td>\n",
       "      <td>0</td>\n",
       "      <td>1</td>\n",
       "      <td>0</td>\n",
       "    </tr>\n",
       "    <tr>\n",
       "      <th>4704</th>\n",
       "      <td>0</td>\n",
       "      <td>0</td>\n",
       "      <td>1</td>\n",
       "      <td>0</td>\n",
       "      <td>0</td>\n",
       "    </tr>\n",
       "    <tr>\n",
       "      <th>4705</th>\n",
       "      <td>0</td>\n",
       "      <td>0</td>\n",
       "      <td>0</td>\n",
       "      <td>1</td>\n",
       "      <td>0</td>\n",
       "    </tr>\n",
       "  </tbody>\n",
       "</table>\n",
       "<p>4706 rows × 5 columns</p>\n",
       "</div>"
      ],
      "text/plain": [
       "      Better than U.S. National Rate  No Different than U.S. National Rate  \\\n",
       "0                                  0                                     1   \n",
       "1                                  0                                     0   \n",
       "2                                  0                                     1   \n",
       "3                                  0                                     1   \n",
       "4                                  0                                     1   \n",
       "...                              ...                                   ...   \n",
       "4701                               0                                     0   \n",
       "4702                               0                                     0   \n",
       "4703                               0                                     0   \n",
       "4704                               0                                     0   \n",
       "4705                               0                                     0   \n",
       "\n",
       "      Not Available  Number of Cases Too Small  Worse than U.S. National Rate  \n",
       "0                 0                          0                              0  \n",
       "1                 0                          0                              1  \n",
       "2                 0                          0                              0  \n",
       "3                 0                          0                              0  \n",
       "4                 0                          0                              0  \n",
       "...             ...                        ...                            ...  \n",
       "4701              1                          0                              0  \n",
       "4702              0                          1                              0  \n",
       "4703              0                          1                              0  \n",
       "4704              1                          0                              0  \n",
       "4705              0                          1                              0  \n",
       "\n",
       "[4706 rows x 5 columns]"
      ]
     },
     "execution_count": 41,
     "metadata": {},
     "output_type": "execute_result"
    }
   ],
   "source": [
    "# Function pd.get_dummies: used to convert categorical variables to dummies variable (1 and 0)\n",
    "data_2= pd.read_csv(\"C:/Users/Win 10/Documents/R DIRECTORY/outcome-of-care-measures.csv\")\n",
    "pd.get_dummies(data_2[\"Comparison to U.S. Rate - Hospital 30-Day Death (Mortality) Rates from Heart Failure\"])"
   ]
  }
 ],
 "metadata": {
  "kernelspec": {
   "display_name": "Python 3",
   "language": "python",
   "name": "python3"
  },
  "language_info": {
   "codemirror_mode": {
    "name": "ipython",
    "version": 3
   },
   "file_extension": ".py",
   "mimetype": "text/x-python",
   "name": "python",
   "nbconvert_exporter": "python",
   "pygments_lexer": "ipython3",
   "version": "3.8.5"
  }
 },
 "nbformat": 4,
 "nbformat_minor": 4
}
